{
 "cells": [
  {
   "cell_type": "markdown",
   "metadata": {},
   "source": [
    "# List tutorial for beginners in python\n",
    "Lists in Python are similar to arrays in other programming languages. They are used to store multiple items in a single variable. Lists are ordered, changeable, and allow duplicate values."
   ]
  },
  {
   "cell_type": "markdown",
   "metadata": {},
   "source": [
    "# First Program"
   ]
  },
  {
   "cell_type": "code",
   "execution_count": 1,
   "metadata": {},
   "outputs": [
    {
     "name": "stdout",
     "output_type": "stream",
     "text": [
      "[1, 3, 5, 7]\n",
      "7\n"
     ]
    }
   ],
   "source": [
    "# basic numbers list\n",
    "num = [1, 3, 5, 7]\n",
    "print(num) # print list\n",
    "\n",
    "print(num[-1]) # print last value of list"
   ]
  },
  {
   "cell_type": "markdown",
   "metadata": {},
   "source": [
    "# List length\n",
    "We can use builtin `len()` function to determine the length of list or apply method list `__len__()`"
   ]
  },
  {
   "cell_type": "code",
   "execution_count": 12,
   "metadata": {},
   "outputs": [
    {
     "name": "stdout",
     "output_type": "stream",
     "text": [
      "Length of the list using len(): 7\n",
      "Length of the list using __len__(): 7\n"
     ]
    }
   ],
   "source": [
    "num = [1, 3, 5, 7, 9, 11, 13]\n",
    "length = len(num)\n",
    "print(\"Length of the list using len():\", length)\n",
    "\n",
    "length = num.__len__()\n",
    "print(\"Length of the list using __len__():\", length)"
   ]
  },
  {
   "cell_type": "markdown",
   "metadata": {},
   "source": [
    "# Concatenation +\n",
    "python supports concatenation, meaning there by we can add two lists using"
   ]
  },
  {
   "cell_type": "code",
   "execution_count": 8,
   "metadata": {},
   "outputs": [
    {
     "name": "stdout",
     "output_type": "stream",
     "text": [
      "[1, 3, 5, 7, 9, 11, 13]\n"
     ]
    }
   ],
   "source": [
    "num = [1, 3, 5, 7]\n",
    "num += [9, 11, 13] # adding new elements to list\n",
    "print(num)"
   ]
  },
  {
   "cell_type": "markdown",
   "metadata": {},
   "source": [
    "# Simple Assignment in Python\n",
    "\n",
    "Simple assignment in Python never copies data. When you assign a list to a variable, the variable refers to the existing list."
   ]
  },
  {
   "cell_type": "code",
   "execution_count": 14,
   "metadata": {},
   "outputs": [
    {
     "name": "stdout",
     "output_type": "stream",
     "text": [
      "True [1, 3, 5, 7, 9, 11, 13, 15, 17, 19]\n"
     ]
    }
   ],
   "source": [
    "num = [1, 3, 5, 7, 9, 11, 13, 15, 17]\n",
    "newNumList = num\n",
    "newNumList.append(19) # append method is used to add value in at last index of list\n",
    "\n",
    "if newNumList == num:\n",
    "    print(True, newNumList)\n",
    "else:\n",
    "    print(False, newNumList)"
   ]
  },
  {
   "cell_type": "markdown",
   "metadata": {},
   "source": [
    "# Creating a Shallow Copy of a List\n",
    "\n",
    "We can use the `[:]` syntax to create a shallow copy, but it refers to a separate object. This means that modifications made to the shallow copy won't modify the original list. However, it is better to use the `copy` module as it is helpful for complex data structures or nested lists."
   ]
  },
  {
   "cell_type": "code",
   "execution_count": 6,
   "metadata": {},
   "outputs": [
    {
     "name": "stdout",
     "output_type": "stream",
     "text": [
      "originalList: [1, 2, 3, 4, 5]\n",
      "shallow_copy: [1, 2, 3, 4, 5]\n",
      "originalList: [1, 2, 3, 4, 5]\n",
      "shallow_copy: [1, 2, 3, 4, 5, 6]\n"
     ]
    }
   ],
   "source": [
    "originalList = [1, 2, 3, 4, 5]\n",
    "shallow_copy = originalList[:]\n",
    "\n",
    "print(f'originalList: {originalList}')\n",
    "print(f\"shallow_copy: {shallow_copy}\")\n",
    "\n",
    "shallow_copy.append(6)\n",
    "\n",
    "print(f'originalList: {originalList}')\n",
    "print(f\"shallow_copy: {shallow_copy}\")"
   ]
  },
  {
   "cell_type": "markdown",
   "metadata": {},
   "source": [
    "# DeepCopy of List\n",
    "\n",
    "We can use built-in `copy` module to deeply copy a list "
   ]
  },
  {
   "cell_type": "code",
   "execution_count": 17,
   "metadata": {},
   "outputs": [
    {
     "name": "stdout",
     "output_type": "stream",
     "text": [
      "NewNum List Length:  4 and List elements:  [1, 2, 3, 4]\n",
      "Num List Length:  3 and List elements [1, 2, 3]\n"
     ]
    }
   ],
   "source": [
    "import copy\n",
    "\n",
    "num = [1,2,3]\n",
    "\n",
    "newNumList = copy.deepcopy(num)\n",
    "newNumList.append(4)\n",
    "\n",
    "print(\"NewNum List Length: \",newNumList.__len__(), \"and List elements: \", newNumList)\n",
    "print(\"Num List Length: \",num.__len__(), \"and List elements\", num)"
   ]
  },
  {
   "cell_type": "markdown",
   "metadata": {},
   "source": [
    "# Assignment Slice\n",
    "Assignment to slices is also possible, and this can even change the size of the list or clear it entirely:"
   ]
  },
  {
   "cell_type": "code",
   "execution_count": 18,
   "metadata": {},
   "outputs": [
    {
     "name": "stdout",
     "output_type": "stream",
     "text": [
      "['a', 'b', 'c', 'd', 'e', 'f', 'g']\n",
      "['a', 'b', 'C', 'D', 'E', 'f', 'g']\n",
      "['a', 'b', 'f', 'g']\n",
      "[]\n"
     ]
    }
   ],
   "source": [
    "letters = ['a', 'b', 'c', 'd', 'e', 'f', 'g']\n",
    "print(letters)\n",
    "\n",
    "# replace some values\n",
    "letters[2:5] = ['C', 'D', 'E']\n",
    "print(letters)\n",
    "\n",
    "# now remove them\n",
    "letters[2:5] = []\n",
    "print(letters)\n",
    "\n",
    "# clear the list by replacing all the elements with an empty list\n",
    "letters[:] = []\n",
    "print(letters)"
   ]
  }
 ],
 "metadata": {
  "kernelspec": {
   "display_name": "Python 3",
   "language": "python",
   "name": "python3"
  },
  "language_info": {
   "codemirror_mode": {
    "name": "ipython",
    "version": 3
   },
   "file_extension": ".py",
   "mimetype": "text/x-python",
   "name": "python",
   "nbconvert_exporter": "python",
   "pygments_lexer": "ipython3",
   "version": "3.12.4"
  }
 },
 "nbformat": 4,
 "nbformat_minor": 2
}
